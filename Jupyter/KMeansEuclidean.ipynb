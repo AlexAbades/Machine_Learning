{
 "cells": [
  {
   "cell_type": "markdown",
   "metadata": {},
   "source": [
    "### Libraries"
   ]
  },
  {
   "cell_type": "code",
   "execution_count": 1,
   "metadata": {},
   "outputs": [],
   "source": [
    "import numpy as np\n",
    "\n",
    "from sklearn.cluster import k_means"
   ]
  },
  {
   "cell_type": "markdown",
   "metadata": {},
   "source": [
    "### Functions"
   ]
  },
  {
   "cell_type": "code",
   "execution_count": 2,
   "metadata": {},
   "outputs": [],
   "source": [
    "def kmeans2_main(data, centroids):\n",
    "    c1, c2 = centroids\n",
    "    dif1, dif2 = data - c1, data - c2\n",
    "    cat1, cat2 = [], []\n",
    "\n",
    "    for i in range(0, len(data)):\n",
    "        if abs(dif1[i]) <= abs(dif2[i]):\n",
    "            cat1.append(data[i])\n",
    "        elif abs(dif2[i]) <= abs(dif1[i]):\n",
    "            cat2.append(data[i])\n",
    "        else:\n",
    "            print(\"ERROR\")\n",
    "\n",
    "    # Print clusterings\n",
    "    print(cat1, cat2)\n",
    "\n",
    "    # Return new centroids\n",
    "    return np.array([np.mean(cat1), np.mean(cat2)])\n",
    "\n",
    "def kmeans2(data, centroids):\n",
    "    current = np.array(centroids)\n",
    "    old = np.zeros(2)\n",
    "    while np.any(current != old):\n",
    "        old = current\n",
    "        current = kmeans2_main(data, current)\n",
    "    print(\"terminated!\\ncentroids:\", current)"
   ]
  },
  {
   "cell_type": "markdown",
   "metadata": {},
   "source": [
    "### Converged"
   ]
  },
  {
   "cell_type": "code",
   "execution_count": 3,
   "metadata": {},
   "outputs": [
    {
     "name": "stdout",
     "output_type": "stream",
     "text": [
      "[1 1 1 2 2 2 0 0 0 0]\n"
     ]
    }
   ],
   "source": [
    "X = [[1, 0], [3, 0], [4, 0], [6, 0], [7, 0], [8, 0], [13, 0], [15, 0], [16, 0], [17, 0]]\n",
    "X = np.asarray(X)\n",
    "K = 3\n",
    "\n",
    "centroids, cls, inertia = k_means(X,K)\n",
    "\n",
    "print(cls)"
   ]
  },
  {
   "cell_type": "code",
   "execution_count": 4,
   "metadata": {},
   "outputs": [
    {
     "name": "stdout",
     "output_type": "stream",
     "text": [
      "[1 1 1 1 1 0 0 0 0 0]\n"
     ]
    }
   ],
   "source": [
    "X = [[5.7, 0], [6, 0], [6.2, 0], [6.3, 0], [6.4, 0], [6.6, 0], [6.7, 0], [6.9, 0], [7, 0], [7.4, 0]]\n",
    "X = np.asarray(X)\n",
    "K = 2\n",
    "\n",
    "centroids, cls, inertia = k_means(X,K)\n",
    "\n",
    "print(cls)"
   ]
  },
  {
   "cell_type": "markdown",
   "metadata": {},
   "source": [
    "### Selected Centroids"
   ]
  },
  {
   "cell_type": "code",
   "execution_count": 5,
   "metadata": {},
   "outputs": [
    {
     "name": "stdout",
     "output_type": "stream",
     "text": [
      "[19.4] [30.3, 34.2, 38.3, 40.1, 42.0, 50.9, 68.6]\n",
      "[19.4, 30.3] [34.2, 38.3, 40.1, 42.0, 50.9, 68.6]\n",
      "[19.4, 30.3, 34.2] [38.3, 40.1, 42.0, 50.9, 68.6]\n",
      "[19.4, 30.3, 34.2] [38.3, 40.1, 42.0, 50.9, 68.6]\n",
      "terminated!\n",
      "centroids: [27.96666667 47.98      ]\n"
     ]
    }
   ],
   "source": [
    "X = [19.4, 30.3, 34.2, 38.3, 40.1, 42, 50.9, 68.6]\n",
    "X = np.asarray(X)\n",
    "\n",
    "c = [19.4, 30.3]\n",
    "\n",
    "kmeans2(X, c)"
   ]
  }
 ],
 "metadata": {
  "kernelspec": {
   "display_name": "Python 3",
   "language": "python",
   "name": "python3"
  },
  "language_info": {
   "codemirror_mode": {
    "name": "ipython",
    "version": 3
   },
   "file_extension": ".py",
   "mimetype": "text/x-python",
   "name": "python",
   "nbconvert_exporter": "python",
   "pygments_lexer": "ipython3",
   "version": "3.8.5"
  }
 },
 "nbformat": 4,
 "nbformat_minor": 4
}
