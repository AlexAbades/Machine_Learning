{
 "cells": [
  {
   "cell_type": "markdown",
   "metadata": {},
   "source": [
    "### Libraries"
   ]
  },
  {
   "cell_type": "code",
   "execution_count": 1,
   "metadata": {},
   "outputs": [],
   "source": [
    "import numpy as np"
   ]
  },
  {
   "cell_type": "code",
   "execution_count": 2,
   "metadata": {},
   "outputs": [],
   "source": [
    "def similarity(X, Y, method):\n",
    "    '''\n",
    "    method   string defining one of the following similarity measure\n",
    "           'SMC', 'smc'             : Simple Matching Coefficient\n",
    "           'Jaccard', 'jac'         : Jaccard coefficient \n",
    "           'ExtendedJaccard', 'ext' : The Extended Jaccard coefficient\n",
    "           'Cosine', 'cos'          : Cosine Similarity\n",
    "           'Correlation', 'cor'     : Correlation coefficient\n",
    "    '''\n",
    "    X = np.mat(X)\n",
    "    Y = np.mat(Y)\n",
    "    N1, M = np.shape(X)\n",
    "    N2, M = np.shape(Y)\n",
    "    method = method[:3].lower()\n",
    "    if method=='smc': # SMC\n",
    "        X,Y = binarize(X,Y);\n",
    "        sim = ((X*Y.T)+((1-X)*(1-Y).T))/M\n",
    "    elif method=='jac': # Jaccard\n",
    "        X,Y = binarize(X,Y);\n",
    "        sim = (X*Y.T)/(M-(1-X)*(1-Y).T)        \n",
    "    elif method=='ext': # Extended Jaccard\n",
    "        XYt = X*Y.T\n",
    "        sim = XYt / (np.log( np.exp(sum(np.power(X.T,2))).T * np.exp(sum(np.power(Y.T,2))) ) - XYt)\n",
    "    elif method=='cos': # Cosine\n",
    "        sim = (X*Y.T)/(np.sqrt(sum(np.power(X.T,2))).T * np.sqrt(sum(np.power(Y.T,2))))\n",
    "    elif method=='cor': # Correlation\n",
    "        X_ = zscore(np.asarray(X),axis=1,ddof=1) # Matrix type throws error\n",
    "        Y_ = zscore(np.asarray(Y),axis=1,ddof=1)\n",
    "        sim = (X_*Y_.T)/(M-1)\n",
    "    return sim"
   ]
  },
  {
   "cell_type": "code",
   "execution_count": 3,
   "metadata": {},
   "outputs": [],
   "source": [
    "def binarize(X,Y=None):\n",
    "    x_was_transposed = False\n",
    "    if Y is None:\n",
    "        if X.shape[0] == 1:\n",
    "            x_was_transposed = True\n",
    "            X = X.T;\n",
    "        \n",
    "        Xmedians = np.ones((np.shape(X)[0],1)) * np.median(X,0)\n",
    "        Xflags = X>Xmedians\n",
    "        X[Xflags] = 1; X[~Xflags] = 0\n",
    "        if x_was_transposed:\n",
    "            return X.T\n",
    "        return X\n",
    "    else:\n",
    "        return [binarize(X,None),binarize(Y,None)]"
   ]
  },
  {
   "cell_type": "markdown",
   "metadata": {},
   "source": [
    "### SMC "
   ]
  },
  {
   "cell_type": "code",
   "execution_count": 12,
   "metadata": {},
   "outputs": [
    {
     "name": "stdout",
     "output_type": "stream",
     "text": [
      "[[0.7]]\n"
     ]
    }
   ],
   "source": [
    "X = np.array([1, 1, 1, 1, 2, 2, 2, 1, 1, 2])\n",
    "q = np.array([1, 1, 1, 1, 1, 2, 2, 2, 2, 2])\n",
    "\n",
    "sim = similarity(X, q, 'smc')\n",
    "print(sim)"
   ]
  },
  {
   "cell_type": "markdown",
   "metadata": {},
   "source": [
    "### Jaccard"
   ]
  },
  {
   "cell_type": "code",
   "execution_count": 13,
   "metadata": {},
   "outputs": [
    {
     "name": "stdout",
     "output_type": "stream",
     "text": [
      "Similarity results:\n",
      " [[0.]]\n"
     ]
    }
   ],
   "source": [
    "X = np.array([1, 1, 1, 1, 1, 2, 2, 2, 2, 2])\n",
    "q = np.array([2, 2, 2, 2, 1, 1, 1, 2, 2, 1])\n",
    "\n",
    "sim = similarity(X, q, 'jac')\n",
    "print('Similarity results:\\n {0}'.format(sim))"
   ]
  },
  {
   "cell_type": "markdown",
   "metadata": {},
   "source": [
    "### Cosine"
   ]
  },
  {
   "cell_type": "code",
   "execution_count": 6,
   "metadata": {
    "scrolled": true
   },
   "outputs": [
    {
     "name": "stdout",
     "output_type": "stream",
     "text": [
      "Similarity results:\n",
      " [[0.86931829]]\n"
     ]
    }
   ],
   "source": [
    "X = np.array([1, 1, 1, 1, 1, 2, 2, 2, 2, 2])\n",
    "q = np.array([2, 2, 2, 2, 1, 1, 1, 2, 2, 1])\n",
    "\n",
    "sim = similarity(X, q, 'cos')\n",
    "print('Similarity results:\\n {0}'.format(sim))"
   ]
  },
  {
   "cell_type": "code",
   "execution_count": 48,
   "metadata": {},
   "outputs": [
    {
     "name": "stdout",
     "output_type": "stream",
     "text": [
      "0.8740909584283079\n"
     ]
    }
   ],
   "source": [
    "conf = [[114, 0, 32], [0, 119, 0], [8, 0, 60]]\n",
    "\n",
    "S = 0\n",
    "D = np.sum(conf)*(np.sum(conf)-1)/2\n",
    "\n",
    "for i in range(len(conf)):\n",
    "    D1 =  np.sum(conf[i])\n",
    "    D2 = np.sum([row[i] for row in conf])\n",
    "    D = D - (D1*(D1-1)/2) - (D2*(D2-1)/2)\n",
    "    for j in range(len(conf)):\n",
    "        S = S + (conf[i][j]*(conf[i][j]-1)/2)\n",
    "\n",
    "D = D + S\n",
    "\n",
    "Rzq = (S+D)/(np.sum(conf)*(np.sum(conf)-1)/2)\n",
    "print(Rzq)"
   ]
  },
  {
   "cell_type": "code",
   "execution_count": 47,
   "metadata": {},
   "outputs": [
    {
     "data": {
      "text/plain": [
       "0.8740909584283079"
      ]
     },
     "execution_count": 47,
     "metadata": {},
     "output_type": "execute_result"
    }
   ],
   "source": [
    "Rzq"
   ]
  },
  {
   "cell_type": "code",
   "execution_count": 43,
   "metadata": {},
   "outputs": [
    {
     "data": {
      "text/plain": [
       "68"
      ]
     },
     "execution_count": 43,
     "metadata": {},
     "output_type": "execute_result"
    }
   ],
   "source": [
    "np.sum(conf[2])"
   ]
  },
  {
   "cell_type": "code",
   "execution_count": 24,
   "metadata": {},
   "outputs": [
    {
     "ename": "AttributeError",
     "evalue": "'list' object has no attribute 'T'",
     "output_type": "error",
     "traceback": [
      "\u001b[0;31m---------------------------------------------------------------------------\u001b[0m",
      "\u001b[0;31mAttributeError\u001b[0m                            Traceback (most recent call last)",
      "\u001b[0;32m<ipython-input-24-0109dbce911e>\u001b[0m in \u001b[0;36m<module>\u001b[0;34m\u001b[0m\n\u001b[0;32m----> 1\u001b[0;31m \u001b[0mconf\u001b[0m\u001b[0;34m.\u001b[0m\u001b[0mT\u001b[0m\u001b[0;34m\u001b[0m\u001b[0;34m\u001b[0m\u001b[0m\n\u001b[0m",
      "\u001b[0;31mAttributeError\u001b[0m: 'list' object has no attribute 'T'"
     ]
    }
   ],
   "source": [
    "conf.T"
   ]
  },
  {
   "cell_type": "code",
   "execution_count": 1,
   "metadata": {},
   "outputs": [],
   "source": [
    "import toolbox_extended as te  # pip install --ignore-installed ml02450\n",
    "import toolbox_02450 as tb"
   ]
  },
  {
   "cell_type": "code",
   "execution_count": 3,
   "metadata": {},
   "outputs": [
    {
     "data": {
      "text/plain": [
       "2.6799999999999997"
      ]
     },
     "execution_count": 3,
     "metadata": {},
     "output_type": "execute_result"
    }
   ],
   "source": [
    "1.95 + 0.73"
   ]
  },
  {
   "cell_type": "code",
   "execution_count": 4,
   "metadata": {},
   "outputs": [
    {
     "data": {
      "text/plain": [
       "0.746268656716418"
      ]
     },
     "execution_count": 4,
     "metadata": {},
     "output_type": "execute_result"
    }
   ],
   "source": [
    "2/2.6799999999999997"
   ]
  },
  {
   "cell_type": "code",
   "execution_count": null,
   "metadata": {},
   "outputs": [],
   "source": []
  }
 ],
 "metadata": {
  "kernelspec": {
   "display_name": "Python 3",
   "language": "python",
   "name": "python3"
  },
  "language_info": {
   "codemirror_mode": {
    "name": "ipython",
    "version": 3
   },
   "file_extension": ".py",
   "mimetype": "text/x-python",
   "name": "python",
   "nbconvert_exporter": "python",
   "pygments_lexer": "ipython3",
   "version": "3.8.5"
  }
 },
 "nbformat": 4,
 "nbformat_minor": 4
}
