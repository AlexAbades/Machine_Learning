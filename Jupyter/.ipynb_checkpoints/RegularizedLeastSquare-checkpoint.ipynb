{
 "cells": [
  {
   "cell_type": "markdown",
   "metadata": {},
   "source": [
    "### Libraries"
   ]
  },
  {
   "cell_type": "code",
   "execution_count": 1,
   "metadata": {},
   "outputs": [],
   "source": [
    "import numpy as np"
   ]
  },
  {
   "cell_type": "markdown",
   "metadata": {},
   "source": [
    "### Weights"
   ]
  },
  {
   "cell_type": "code",
   "execution_count": 2,
   "metadata": {},
   "outputs": [
    {
     "name": "stdout",
     "output_type": "stream",
     "text": [
      "\n",
      " 0.044193449999999995 \n",
      " 0.0224322 \n",
      " 0.40917263000000004 \n",
      " 0.02510818\n"
     ]
    }
   ],
   "source": [
    "w1 = [0.0538, 0.0558, 0.1861, -0.0596]\n",
    "w2 = [0.0089, 0.0931, 0.1093, 0.0417]\n",
    "w3 = [0.2811, 0.0445, 0.3379, -0.4626]\n",
    "w4 = [0.0167, 0.0698, 0.1354, 0.0403]\n",
    "\n",
    "w1 = np.sum(np.square(w1))\n",
    "w2 = np.sum(np.square(w2))\n",
    "w3 = np.sum(np.square(w3))\n",
    "w4 = np.sum(np.square(w4))\n",
    "\n",
    "print('\\n', w1, '\\n', w2 , '\\n', w3, '\\n', w4)"
   ]
  },
  {
   "cell_type": "markdown",
   "metadata": {},
   "source": [
    "**Comment:** The maximum weight is assigned to the minimum $\\lambda$"
   ]
  },
  {
   "cell_type": "code",
   "execution_count": null,
   "metadata": {},
   "outputs": [],
   "source": []
  }
 ],
 "metadata": {
  "kernelspec": {
   "display_name": "Python 3",
   "language": "python",
   "name": "python3"
  },
  "language_info": {
   "codemirror_mode": {
    "name": "ipython",
    "version": 3
   },
   "file_extension": ".py",
   "mimetype": "text/x-python",
   "name": "python",
   "nbconvert_exporter": "python",
   "pygments_lexer": "ipython3",
   "version": "3.8.5"
  }
 },
 "nbformat": 4,
 "nbformat_minor": 4
}
