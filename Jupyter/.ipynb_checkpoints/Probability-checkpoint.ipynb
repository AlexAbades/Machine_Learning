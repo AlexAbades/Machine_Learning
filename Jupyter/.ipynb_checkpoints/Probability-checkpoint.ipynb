{
 "cells": [
  {
   "cell_type": "markdown",
   "metadata": {},
   "source": [
    "### Libaries"
   ]
  },
  {
   "cell_type": "code",
   "execution_count": 1,
   "metadata": {},
   "outputs": [],
   "source": [
    "import math\n",
    "import numpy as np"
   ]
  },
  {
   "cell_type": "markdown",
   "metadata": {},
   "source": [
    "### Softmax Function"
   ]
  },
  {
   "cell_type": "code",
   "execution_count": 2,
   "metadata": {},
   "outputs": [
    {
     "name": "stdout",
     "output_type": "stream",
     "text": [
      "[0.7869860421615985, 0.10650697891920076, 0.10650697891920076]\n"
     ]
    }
   ],
   "source": [
    "#Select a Point\n",
    "x = [0, 1]\n",
    "w = [[1, 1], [-1, -1], [1, -1]]\n",
    "\n",
    "prob = []\n",
    "for i in range(len(w)):\n",
    "    prob.append(math.exp(np.matmul(w[i], x))/(math.exp(np.matmul(w[0], x)) + math.exp(np.matmul(w[1], x)) + math.exp(np.matmul(w[2], x))))\n",
    "\n",
    "print(prob)"
   ]
  }
 ],
 "metadata": {
  "kernelspec": {
   "display_name": "Python 3",
   "language": "python",
   "name": "python3"
  },
  "language_info": {
   "codemirror_mode": {
    "name": "ipython",
    "version": 3
   },
   "file_extension": ".py",
   "mimetype": "text/x-python",
   "name": "python",
   "nbconvert_exporter": "python",
   "pygments_lexer": "ipython3",
   "version": "3.8.5"
  }
 },
 "nbformat": 4,
 "nbformat_minor": 4
}
