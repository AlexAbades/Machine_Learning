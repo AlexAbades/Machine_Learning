{
 "cells": [
  {
   "cell_type": "markdown",
   "metadata": {},
   "source": [
    "### Libraries"
   ]
  },
  {
   "cell_type": "code",
   "execution_count": 19,
   "metadata": {},
   "outputs": [],
   "source": [
    "import numpy as np\n",
    "from math import log2"
   ]
  },
  {
   "cell_type": "markdown",
   "metadata": {},
   "source": [
    "### Class Error"
   ]
  },
  {
   "cell_type": "code",
   "execution_count": 12,
   "metadata": {},
   "outputs": [],
   "source": [
    "def p(v):\n",
    "    \"v: branch\"\n",
    "    return v/np.sum(v)"
   ]
  },
  {
   "cell_type": "code",
   "execution_count": 20,
   "metadata": {},
   "outputs": [],
   "source": [
    "def class_error(v):\n",
    "    return 1 - max(p(v))\n",
    "\n",
    "def Gini(v):\n",
    "    return 1 - np.sum(p(v)**2)\n",
    "\n",
    "def Entropy(v):\n",
    "    return - np.sum(p(v)*log2(p(v)))"
   ]
  },
  {
   "cell_type": "code",
   "execution_count": 22,
   "metadata": {},
   "outputs": [],
   "source": [
    "def impurity(root,v1,v2,fun):\n",
    "    \"fun can be: class_error, Gini, Entropy\"\n",
    "    I_r = fun(root)\n",
    "    I_v1 = fun(v1)\n",
    "    I_v2 = fun(v2)\n",
    "    \n",
    "    return I_r - np.sum(v1)/np.sum(root)*I_v1 - np.sum(v2)/np.sum(root)*I_v2"
   ]
  },
  {
   "cell_type": "code",
   "execution_count": 24,
   "metadata": {},
   "outputs": [],
   "source": [
    "root = [5,10]\n",
    "v1 = [1,4]\n",
    "v2 = [4,6]\n",
    "\n",
    "I = impurity(root,v1,v2,Gini)\n",
    "print(i)"
   ]
  },
  {
   "cell_type": "code",
   "execution_count": null,
   "metadata": {},
   "outputs": [],
   "source": []
  },
  {
   "cell_type": "code",
   "execution_count": 4,
   "metadata": {},
   "outputs": [
    {
     "name": "stdout",
     "output_type": "stream",
     "text": [
      "0.28125\n"
     ]
    }
   ],
   "source": [
    "root = [17, 15]\n",
    "split1 = [13, 2]\n",
    "split2 = [4, 13]\n",
    "\n",
    "parent = 1 - np.max(root)/np.sum(root)\n",
    "child1 = (np.sum(split1)/np.sum(root))*(1 - (np.max(split1)/np.sum(split1)))\n",
    "child2 = (np.sum(split2)/np.sum(root))*(1 - (np.max(split2)/np.sum(split2)))\n",
    "\n",
    "gain = parent - child1 - child2\n",
    "\n",
    "print(gain)"
   ]
  },
  {
   "cell_type": "code",
   "execution_count": 3,
   "metadata": {},
   "outputs": [
    {
     "name": "stdout",
     "output_type": "stream",
     "text": [
      "0.22000000000000003\n"
     ]
    }
   ],
   "source": [
    "root = [100, 100]\n",
    "split1 = [45, 1]\n",
    "split2 = [47, 66]\n",
    "split3 = [8, 33]\n",
    "\n",
    "parent = 1 - (np.max(root)/np.sum(root))\n",
    "child1 = (np.sum(split1)/np.sum(root))*(1 - (np.max(split1)/np.sum(split1)))\n",
    "child2 = (np.sum(split2)/np.sum(root))*(1 - (np.max(split2)/np.sum(split2)))\n",
    "child3 = (np.sum(split3)/np.sum(root))*(1 - (np.max(split3)/np.sum(split3)))\n",
    "\n",
    "gain = parent - child1 - child2 - child3\n",
    "\n",
    "print(gain)"
   ]
  },
  {
   "cell_type": "markdown",
   "metadata": {},
   "source": [
    "**Comment:** Select the Split with the biggest gain"
   ]
  },
  {
   "cell_type": "code",
   "execution_count": 4,
   "metadata": {},
   "outputs": [
    {
     "name": "stdout",
     "output_type": "stream",
     "text": [
      "0.33333333333333337\n"
     ]
    }
   ],
   "source": [
    "root = [70, 70, 70]\n",
    "split1 = [24, 70 , 0]\n",
    "split2 = [46, 0, 70]\n",
    "\n",
    "parent = 1 - (np.max(root)/np.sum(root))\n",
    "child1 = (np.sum(split1)/np.sum(root))*(1 - (np.max(split1)/np.sum(split1)))\n",
    "child2 = (np.sum(split2)/np.sum(root))*(1 - (np.max(split2)/np.sum(split2)))\n",
    "\n",
    "gain = parent - child1 - child2\n",
    "\n",
    "print(gain)"
   ]
  },
  {
   "cell_type": "markdown",
   "metadata": {},
   "source": [
    "### Gini"
   ]
  },
  {
   "cell_type": "code",
   "execution_count": 5,
   "metadata": {},
   "outputs": [
    {
     "name": "stdout",
     "output_type": "stream",
     "text": [
      "0.05046296296296285\n"
     ]
    }
   ],
   "source": [
    "root = [18, 18, 18]\n",
    "split1 = [6, 9 , 3]\n",
    "split2 = [4, 6, 10]\n",
    "split3 = [8, 3, 5]\n",
    "\n",
    "parent, child1, child2, child3 = 1, 1, 1, 1\n",
    "\n",
    "for i in range(len(whole)):\n",
    "    parent = parent - np.power(root[i]/np.sum(root), 2)\n",
    "    child1 = child1 - np.power(split1[i]/np.sum(split1), 2)\n",
    "    child2 = child2 - np.power(split2[i]/np.sum(split2), 2)\n",
    "    child3 = child3 - np.power(split3[i]/np.sum(split3), 2)\n",
    "\n",
    "child1 = child1*np.sum(split1)/np.sum(root)\n",
    "child2 = child2*np.sum(split2)/np.sum(root)\n",
    "child3 = child3*np.sum(split3)/np.sum(root)\n",
    "\n",
    "gain = parent - child1 - child2 - child3\n",
    "\n",
    "print(gain)"
   ]
  }
 ],
 "metadata": {
  "kernelspec": {
   "display_name": "Python 3",
   "language": "python",
   "name": "python3"
  },
  "language_info": {
   "codemirror_mode": {
    "name": "ipython",
    "version": 3
   },
   "file_extension": ".py",
   "mimetype": "text/x-python",
   "name": "python",
   "nbconvert_exporter": "python",
   "pygments_lexer": "ipython3",
   "version": "3.8.5"
  }
 },
 "nbformat": 4,
 "nbformat_minor": 4
}
