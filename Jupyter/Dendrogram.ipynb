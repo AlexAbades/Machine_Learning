{
 "cells": [
  {
   "cell_type": "markdown",
   "metadata": {},
   "source": [
    "### Libraries"
   ]
  },
  {
   "cell_type": "code",
   "execution_count": 1,
   "metadata": {},
   "outputs": [],
   "source": [
    "import numpy as np\n",
    "import matplotlib.pyplot as plt \n",
    "\n",
    "from scipy.cluster.hierarchy import linkage, fcluster, dendrogram"
   ]
  },
  {
   "cell_type": "markdown",
   "metadata": {},
   "source": [
    "### Single (Minimum) Linkage"
   ]
  },
  {
   "cell_type": "code",
   "execution_count": 6,
   "metadata": {},
   "outputs": [
    {
     "name": "stderr",
     "output_type": "stream",
     "text": [
      "<ipython-input-6-42c4a76809ee>:15: ClusterWarning: scipy.cluster: The symmetric non-negative hollow observation matrix looks suspiciously like an uncondensed distance matrix\n",
      "  Z = linkage(X, method=Method, metric=Metric)\n"
     ]
    },
    {
     "data": {
      "image/png": "[encoded data removed]",
      "text/plain": [
       "<Figure size 720x288 with 1 Axes>"
      ]
     },
     "metadata": {
      "needs_background": "light"
     },
     "output_type": "display_data"
    }
   ],
   "source": [
    "X=[[0.0 ,2.91, 0.63, 1.88, 1.02, 1.82, 1.92, 1.58, 1.08, 1.43], \n",
    "   [2.91, 0.0, 3.23, 3.9, 2.88, 3.27, 3.48, 4.02, 3.08, 3.47],\n",
    "   [0.63, 3.23, 0.0, 2.03, 1.06, 2.15, 2.11, 1.15, 1.09, 1.65],\n",
    "   [1.88, 3.9, 2.03, 0.0, 2.52, 1.04, 2.25, 2.42, 2.18, 2.17],\n",
    "   [1.02, 2.88, 1.06, 2.52, 0.0, 2.44, 2.38, 1.53, 1.71, 1.94],\n",
    "   [1.82, 3.27, 2.15, 1.04, 2.44, 0.0, 1.93, 2.72, 1.98, 1.8],\n",
    "   [1.92, 3.48, 2.11, 2.25, 2.38, 1.93, 0.0, 2.53, 2.09, 1.66],\n",
    "   [1.58, 4.02, 1.15, 2.42, 1.53, 2.72, 2.53, 0.0, 1.68, 2.06],\n",
    "   [1.08, 3.08, 1.09, 2.18, 1.71, 1.98, 2.09, 1.68, 0.0, 1.48],\n",
    "   [1.43, 3.47, 1.65, 2.17, 1.94, 1.8, 1.66, 2.06, 1.48, 0.0]]\n",
    "\n",
    "Method = 'single'\n",
    "Metric = 'euclidean'\n",
    "\n",
    "Z = linkage(X, method=Method, metric=Metric)\n",
    "\n",
    "# Display dendrogram\n",
    "#max_display_levels=6\n",
    "plt.figure(2,figsize=(10,4))\n",
    "#dendrogram(Z, truncate_mode='level', p=max_display_levels)\n",
    "dendrogram(Z)\n",
    "\n",
    "plt.show()"
   ]
  },
  {
   "cell_type": "code",
   "execution_count": 3,
   "metadata": {},
   "outputs": [
    {
     "name": "stderr",
     "output_type": "stream",
     "text": [
      "<ipython-input-3-73c4b39e02b3>:14: ClusterWarning: scipy.cluster: The symmetric non-negative hollow observation matrix looks suspiciously like an uncondensed distance matrix\n",
      "  Z = linkage(X, method=Method, metric=Metric)\n"
     ]
    },
    {
     "data": {
      "image/png": "[encoded data removed]",
      "text/plain": [
       "<Figure size 720x288 with 1 Axes>"
      ]
     },
     "metadata": {
      "needs_background": "light"
     },
     "output_type": "display_data"
    }
   ],
   "source": [
    "X = [[0.00, 4.84, 0.50, 4.11, 1.07, 4.10, 4.71, 4.70, 4.93],\n",
    "     [4.84, 0.00, 4.40, 5.96, 4.12, 2.01, 5.36, 3.59, 3.02],\n",
    "     [0.50, 4.40, 0.00, 4.07, 0.72, 3.75, 4.66, 4.48, 4.64],\n",
    "     [4.11, 5.96, 4.07, 0.00, 4.48, 4.69, 2.44, 3.68, 4.15],\n",
    "     [1.07, 4.12, 0.72, 4.48, 0.00, 3.54, 4.96, 4.62, 4.71],\n",
    "     [4.10, 2.01, 3.75, 4.69, 3.54, 0.00, 3.72, 2.23, 1.95],\n",
    "     [4.71, 5.36, 4.66, 2.44, 4.96, 3.72, 0.00, 2.03, 2.73],\n",
    "     [4.70, 3.59, 4.48, 3.68, 4.62, 2.23, 2.03, 0.00, 0.73],\n",
    "     [4.93, 3.02, 4.64, 4.15, 4.71, 1.95, 2.73, 0.73, 0.00]]\n",
    "\n",
    "Method = 'single'\n",
    "Metric = 'euclidean'\n",
    "\n",
    "Z = linkage(X, method=Method, metric=Metric)\n",
    "\n",
    "# Display dendrogram\n",
    "#max_display_levels=6\n",
    "plt.figure(2,figsize=(10,4))\n",
    "#dendrogram(Z, truncate_mode='level', p=max_display_levels)\n",
    "dendrogram(Z, truncate_mode='level')\n",
    "\n",
    "plt.show()"
   ]
  },
  {
   "cell_type": "markdown",
   "metadata": {},
   "source": [
    "### Complete (Maximum) Linkage"
   ]
  },
  {
   "cell_type": "code",
   "execution_count": 4,
   "metadata": {},
   "outputs": [
    {
     "name": "stderr",
     "output_type": "stream",
     "text": [
      "<ipython-input-4-96386e3596f8>:14: ClusterWarning: scipy.cluster: The symmetric non-negative hollow observation matrix looks suspiciously like an uncondensed distance matrix\n",
      "  Z = linkage(X, method=Method, metric=Metric)\n"
     ]
    },
    {
     "data": {
      "image/png": "[encoded data removed]",
      "text/plain": [
       "<Figure size 720x288 with 1 Axes>"
      ]
     },
     "metadata": {
      "needs_background": "light"
     },
     "output_type": "display_data"
    }
   ],
   "source": [
    "X = [[0, 0.534, 1.257, 1.671, 1.090, 1.315, 1.484, 1.253, 1.418],\n",
    "     [0.534, 0, 0.727, 2.119, 1.526, 1.689, 1.214, 0.997, 1.056],\n",
    "     [1.257, 0.727, 0, 2.809, 2.220, 2.342, 1.088, 0.965, 0.807],\n",
    "     [1.671, 2.119, 2.809, 0, 0.601, 0.540, 3.135, 2.908, 3.087],\n",
    "     [1.090, 1.526, 2.220, 0.601, 0, 0.331, 2.563, 2.338, 2.500],\n",
    "     [1.315, 1.689, 2.342, 0.540, 0.331, 0, 2.797, 2.567, 2.708],\n",
    "     [1.484, 1.214, 1.088, 3.135, 2.563, 2.797, 0, 0.275, 0.298],\n",
    "     [1.253, 0.997, 0.965, 2.908, 2.338, 2.567, 0.275, 0, 0.343],\n",
    "     [1.418, 1.056, 0.807, 3.087, 2.500, 2.708, 0.298, 0.343, 0]]\n",
    "\n",
    "Method = 'complete'\n",
    "Metric = 'euclidean'\n",
    "\n",
    "Z = linkage(X, method=Method, metric=Metric)\n",
    "\n",
    "# Display dendrogram\n",
    "#max_display_levels=6\n",
    "plt.figure(2,figsize=(10,4))\n",
    "#dendrogram(Z, truncate_mode='level', p=max_display_levels)\n",
    "dendrogram(Z, truncate_mode='level')\n",
    "\n",
    "plt.show()"
   ]
  },
  {
   "cell_type": "markdown",
   "metadata": {},
   "source": [
    "### Average Linkage"
   ]
  },
  {
   "cell_type": "code",
   "execution_count": 5,
   "metadata": {},
   "outputs": [
    {
     "data": {
      "image/png": "[encoded data removed]",
      "text/plain": [
       "<Figure size 720x288 with 1 Axes>"
      ]
     },
     "metadata": {
      "needs_background": "light"
     },
     "output_type": "display_data"
    }
   ],
   "source": [
    "X = [[5.7, 0], [6, 0], [6.2, 0], [6.3, 0], [6.4, 0], [6.6, 0], [6.7, 0], [6.9, 0], [7, 0], [7.4, 0]]\n",
    "\n",
    "Method = 'average'\n",
    "Metric = 'euclidean'\n",
    "\n",
    "Z = linkage(X, method=Method, metric=Metric)\n",
    "\n",
    "# Display dendrogram\n",
    "#max_display_levels=6\n",
    "plt.figure(2,figsize=(10,4))\n",
    "#dendrogram(Z, truncate_mode='level', p=max_display_levels)\n",
    "dendrogram(Z, truncate_mode='level')\n",
    "\n",
    "plt.show()"
   ]
  }
 ],
 "metadata": {
  "kernelspec": {
   "display_name": "Python 3",
   "language": "python",
   "name": "python3"
  },
  "language_info": {
   "codemirror_mode": {
    "name": "ipython",
    "version": 3
   },
   "file_extension": ".py",
   "mimetype": "text/x-python",
   "name": "python",
   "nbconvert_exporter": "python",
   "pygments_lexer": "ipython3",
   "version": "3.8.5"
  }
 },
 "nbformat": 4,
 "nbformat_minor": 4
}
