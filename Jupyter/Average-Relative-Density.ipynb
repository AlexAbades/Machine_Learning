{
 "cells": [
  {
   "cell_type": "code",
   "execution_count": 27,
   "metadata": {},
   "outputs": [],
   "source": [
    "import numpy as np\n",
    "x = np.array([-2.1, -1.7, -1.5, -0.4, 0, 0.6, 0.8, 1, 1.1, 7.4 ])"
   ]
  },
  {
   "cell_type": "code",
   "execution_count": 28,
   "metadata": {},
   "outputs": [],
   "source": [
    "# We suspect that O-10 is an outlier:\n",
    "k = 3\n",
    "total_lists = [[] for i in range(k+1)]\n",
    "densities = [[] for i in range(k+1)]\n",
    "for i in range(k+1):\n",
    "    list1 = x - x[len(x)-1-i]\n",
    "    list2 = np.sort([abs(x) for x in list1])\n",
    "    total_lists[i] = list2"
   ]
  },
  {
   "cell_type": "code",
   "execution_count": 29,
   "metadata": {},
   "outputs": [],
   "source": [
    "for i in range(k+1):\n",
    "    density = []\n",
    "    for j in range(1,k+1):\n",
    "        #print(total_lists[i][j])\n",
    "        den = (1/k) * (total_lists[i][j])\n",
    "        density.append(den)\n",
    "    s = sum(density)\n",
    "    densities[i].append(1/s)"
   ]
  },
  {
   "cell_type": "code",
   "execution_count": 30,
   "metadata": {},
   "outputs": [
    {
     "data": {
      "text/plain": [
       "0.03917098445595855"
      ]
     },
     "execution_count": 30,
     "metadata": {},
     "output_type": "execute_result"
    }
   ],
   "source": [
    "s1 = 0\n",
    "for i in range (1, k+1):\n",
    "    #print(densities[i][0])\n",
    "    s1 = s1 + densities[i][0]\n",
    "\n",
    "final_density = densities[0][0]/((1/3)*s1)\n",
    "final_density"
   ]
  },
  {
   "cell_type": "code",
   "execution_count": null,
   "metadata": {},
   "outputs": [],
   "source": []
  }
 ],
 "metadata": {
  "kernelspec": {
   "display_name": "Python 3",
   "language": "python",
   "name": "python3"
  },
  "language_info": {
   "codemirror_mode": {
    "name": "ipython",
    "version": 3
   },
   "file_extension": ".py",
   "mimetype": "text/x-python",
   "name": "python",
   "nbconvert_exporter": "python",
   "pygments_lexer": "ipython3",
   "version": "3.8.5"
  }
 },
 "nbformat": 4,
 "nbformat_minor": 4
}
